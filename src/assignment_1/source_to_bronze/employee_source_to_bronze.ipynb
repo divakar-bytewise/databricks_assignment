{
 "cells": [
  {
   "cell_type": "code",
   "execution_count": 0,
   "metadata": {
    "application/vnd.databricks.v1+cell": {
     "cellMetadata": {
      "byteLimit": 2048000,
      "rowLimit": 10000
     },
     "inputWidgets": {},
     "nuid": "3d09fba5-4b49-47db-b948-d84cfe4ba86f",
     "showTitle": false,
     "tableResultSettingsMap": {},
     "title": ""
    }
   },
   "outputs": [],
   "source": [
    "%run \"./util\"\n"
   ]
  },
  {
   "cell_type": "code",
   "execution_count": 0,
   "metadata": {
    "application/vnd.databricks.v1+cell": {
     "cellMetadata": {
      "byteLimit": 2048000,
      "rowLimit": 10000
     },
     "inputWidgets": {},
     "nuid": "e627ee89-0127-4770-ae00-736464a71d8e",
     "showTitle": false,
     "tableResultSettingsMap": {},
     "title": ""
    }
   },
   "outputs": [],
   "source": [
    "\n",
    "employee_df = read_csv_file(\"/Volumes/workspace/default/databricks_assignment/Employee-Q1.csv\")\n",
    "department_df = read_csv_file(\"/Volumes/workspace/default/databricks_assignment/Department-Q1.csv\")\n",
    "country_df = read_csv_file(\"/Volumes/workspace/default/databricks_assignment/Country-Q1.csv\")\n",
    "\n",
    "write_csv_file(employee_df, \"/Volumes/workspace/default/databricks_assignment/df_write/employee_write.csv\")\n",
    "write_csv_file(department_df, \"/Volumes/workspace/default/databricks_assignment/df_write/department_write.csv\")\n",
    "write_csv_file(country_df, \"/Volumes/workspace/default/databricks_assignment/df_write/country_write.csv\")\n"
   ]
  },
  {
   "cell_type": "code",
   "execution_count": 0,
   "metadata": {
    "application/vnd.databricks.v1+cell": {
     "cellMetadata": {},
     "inputWidgets": {},
     "nuid": "0b28a8c8-6ce0-4745-9e97-cce451b9cc8e",
     "showTitle": false,
     "tableResultSettingsMap": {},
     "title": ""
    }
   },
   "outputs": [],
   "source": []
  }
 ],
 "metadata": {
  "application/vnd.databricks.v1+notebook": {
   "computePreferences": null,
   "dashboards": [],
   "environmentMetadata": {
    "base_environment": "",
    "environment_version": "2"
   },
   "inputWidgetPreferences": null,
   "language": "python",
   "notebookMetadata": {
    "pythonIndentUnit": 4
   },
   "notebookName": "employee_source_to_bronze",
   "widgets": {}
  },
  "language_info": {
   "name": "python"
  }
 },
 "nbformat": 4,
 "nbformat_minor": 0
}

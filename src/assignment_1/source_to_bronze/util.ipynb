{
 "cells": [
  {
   "cell_type": "code",
   "execution_count": 0,
   "metadata": {
    "application/vnd.databricks.v1+cell": {
     "cellMetadata": {
      "byteLimit": 2048000,
      "rowLimit": 10000
     },
     "inputWidgets": {},
     "nuid": "3c890b41-a0ce-441c-acf3-c3476cfa01da",
     "showTitle": false,
     "tableResultSettingsMap": {},
     "title": ""
    }
   },
   "outputs": [],
   "source": [
    "# Databricks notebook source\n",
    "\n",
    "# COMMAND ----------\n",
    "\n",
    "# function to read a csv file\n",
    "def read_csv_file(path):\n",
    "    return spark.read.option(\"header\", True).format(\"csv\").load(path)\n",
    "\n",
    "# COMMAND ----------\n",
    "\n",
    "# function to write a dataFrame\n",
    "def write_csv_file(df, output_path):\n",
    "    df.write.mode(\"overwrite\").option(\"header\", True).format(\"csv\").save(output_path)\n",
    "\n",
    "\n",
    "# COMMAND ----------\n",
    "\n",
    "# function to read a csv file with schema\n",
    "def read_csv_with_schema(path, schema):\n",
    "    return spark.read.option(\"header\", True).schema(schema).format(\"csv\").load(path)\n"
   ]
  },
  {
   "cell_type": "code",
   "execution_count": 0,
   "metadata": {
    "application/vnd.databricks.v1+cell": {
     "cellMetadata": {
      "byteLimit": 2048000,
      "rowLimit": 10000
     },
     "inputWidgets": {},
     "nuid": "72ea6d1a-7c31-4c4d-b74e-cbd1945ebc20",
     "showTitle": false,
     "tableResultSettingsMap": {},
     "title": ""
    }
   },
   "outputs": [],
   "source": []
  }
 ],
 "metadata": {
  "application/vnd.databricks.v1+notebook": {
   "computePreferences": null,
   "dashboards": [],
   "environmentMetadata": {
    "base_environment": "",
    "environment_version": "2"
   },
   "inputWidgetPreferences": null,
   "language": "python",
   "notebookMetadata": {
    "pythonIndentUnit": 4
   },
   "notebookName": "util",
   "widgets": {}
  },
  "language_info": {
   "name": "python"
  }
 },
 "nbformat": 4,
 "nbformat_minor": 0
}

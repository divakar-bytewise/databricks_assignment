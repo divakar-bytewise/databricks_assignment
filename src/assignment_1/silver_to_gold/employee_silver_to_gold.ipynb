{
 "cells": [
  {
   "cell_type": "code",
   "execution_count": 0,
   "metadata": {
    "application/vnd.databricks.v1+cell": {
     "cellMetadata": {
      "byteLimit": 2048000,
      "rowLimit": 10000
     },
     "inputWidgets": {},
     "nuid": "3e91170c-d400-4375-b883-af14a3b9b1da",
     "showTitle": true,
     "tableResultSettingsMap": {},
     "title": "Utility Function to Run Source to Bronze Conversion"
    }
   },
   "outputs": [],
   "source": [
    "%run \"../source_to_bronze/util\"\n"
   ]
  },
  {
   "cell_type": "code",
   "execution_count": 0,
   "metadata": {
    "application/vnd.databricks.v1+cell": {
     "cellMetadata": {
      "byteLimit": 2048000,
      "rowLimit": 10000
     },
     "inputWidgets": {},
     "nuid": "9189e04a-a43c-4fe3-b556-5e690191f297",
     "showTitle": true,
     "tableResultSettingsMap": {},
     "title": "Load and Display Employee Information DataFrame"
    }
   },
   "outputs": [],
   "source": [
    "employee_df = spark.read.format(\"delta\").load(\"/Volumes/workspace/default/databricks_assignment/employee_info/dim_employee\")\n",
    "display(employee_df)"
   ]
  },
  {
   "cell_type": "code",
   "execution_count": 0,
   "metadata": {
    "application/vnd.databricks.v1+cell": {
     "cellMetadata": {
      "byteLimit": 2048000,
      "rowLimit": 10000
     },
     "inputWidgets": {},
     "nuid": "c244c6a5-dc66-4186-b645-0468beb2d9b0",
     "showTitle": false,
     "tableResultSettingsMap": {},
     "title": ""
    }
   },
   "outputs": [],
   "source": [
    "from pyspark.sql.functions import sum\n",
    "\n",
    "dept_salary_df = employee_df.groupBy(\"department_id\") \\\n",
    "    .agg(sum(\"salary\").alias(\"total_salary\")) \\\n",
    "    .orderBy(\"total_salary\", ascending=False)\n",
    "\n",
    "display(dept_salary_df)\n"
   ]
  },
  {
   "cell_type": "code",
   "execution_count": 0,
   "metadata": {
    "application/vnd.databricks.v1+cell": {
     "cellMetadata": {
      "byteLimit": 2048000,
      "rowLimit": 10000
     },
     "inputWidgets": {},
     "nuid": "f8af9217-113a-4043-a546-e910d4e3dcb9",
     "showTitle": false,
     "tableResultSettingsMap": {},
     "title": ""
    }
   },
   "outputs": [],
   "source": [
    "dept_country_count_df = employee_df.groupBy(\"department_id\", \"country_id\") \\\n",
    "    .count() \\\n",
    "    .withColumnRenamed(\"count\", \"employee_count\")\n",
    "\n",
    "display(dept_country_count_df)"
   ]
  },
  {
   "cell_type": "code",
   "execution_count": 0,
   "metadata": {
    "application/vnd.databricks.v1+cell": {
     "cellMetadata": {
      "byteLimit": 2048000,
      "rowLimit": 10000
     },
     "inputWidgets": {},
     "nuid": "d2f38016-0bd4-405c-a980-019fe2c38c66",
     "showTitle": false,
     "tableResultSettingsMap": {},
     "title": ""
    }
   },
   "outputs": [],
   "source": [
    "department_df = read_csv_file(\"/Volumes/workspace/default/databricks_assignment/Department-Q1.csv\")\n",
    "country_df = read_csv_file(\"/Volumes/workspace/default/databricks_assignment/Country-Q1.csv\")\n",
    "\n",
    "department_df = department_df \\\n",
    "    .withColumnRenamed(\"DepartmentID\", \"department_id\") \\\n",
    "    .withColumnRenamed(\"DepartmentName\", \"department_name\")\n",
    "\n",
    "\n",
    "country_df = country_df \\\n",
    "    .withColumnRenamed(\"CountryCode\", \"country_id\") \\\n",
    "    .withColumnRenamed(\"CountryName\", \"country_name\")\n",
    "\n",
    "\n",
    "\n",
    "emp_dept_country_df = employee_df.select(\"department_id\", \"country_id\").distinct() \\\n",
    "    .join(department_df, on=\"department_id\", how=\"inner\") \\\n",
    "    .join(country_df, on=\"country_id\", how=\"inner\") \\\n",
    "    .select(\"department_name\", \"country_name\")\n"
   ]
  },
  {
   "cell_type": "code",
   "execution_count": 0,
   "metadata": {
    "application/vnd.databricks.v1+cell": {
     "cellMetadata": {
      "byteLimit": 2048000,
      "rowLimit": 10000
     },
     "inputWidgets": {},
     "nuid": "e141384c-7d01-486e-95d1-3ec84fb1e621",
     "showTitle": false,
     "tableResultSettingsMap": {},
     "title": ""
    }
   },
   "outputs": [],
   "source": [
    "from pyspark.sql.functions import avg\n",
    "\n",
    "avg_age_df = employee_df.groupBy(\"department_id\") \\\n",
    "    .agg(avg(\"age\").alias(\"average_age\"))\n",
    "\n",
    "display(avg_age_df)\n"
   ]
  },
  {
   "cell_type": "code",
   "execution_count": 0,
   "metadata": {
    "application/vnd.databricks.v1+cell": {
     "cellMetadata": {
      "byteLimit": 2048000,
      "rowLimit": 10000
     },
     "inputWidgets": {},
     "nuid": "0e3569e7-6d65-4078-a3d0-c06b3cfdc7de",
     "showTitle": false,
     "tableResultSettingsMap": {},
     "title": ""
    }
   },
   "outputs": [],
   "source": [
    "from pyspark.sql.functions import current_date\n",
    "\n",
    "dept_salary_df = dept_salary_df.withColumn(\"at_load_date\", current_date())\n",
    "dept_country_count_df = dept_country_count_df.withColumn(\"at_load_date\", current_date())\n",
    "emp_dept_country_df = emp_dept_country_df.withColumn(\"at_load_date\", current_date())\n",
    "avg_age_df = avg_age_df.withColumn(\"at_load_date\", current_date())\n",
    "\n",
    "display(dept_salary_df)\n",
    "display(dept_country_count_df)\n",
    "display(emp_dept_country_df)\n",
    "display(avg_age_df)\n"
   ]
  },
  {
   "cell_type": "code",
   "execution_count": 0,
   "metadata": {
    "application/vnd.databricks.v1+cell": {
     "cellMetadata": {
      "byteLimit": 2048000,
      "rowLimit": 10000
     },
     "inputWidgets": {},
     "nuid": "53319d04-119a-47c1-9ddf-492d88390923",
     "showTitle": false,
     "tableResultSettingsMap": {},
     "title": ""
    }
   },
   "outputs": [],
   "source": [
    "final_df = dept_salary_df.unionByName(dept_country_count_df, allowMissingColumns=True) \\\n",
    "    .unionByName(emp_dept_country_df, allowMissingColumns=True) \\\n",
    "    .unionByName(avg_age_df, allowMissingColumns=True)\n",
    "\n",
    "final_df.write.format(\"delta\") \\\n",
    "    .mode(\"overwrite\") \\\n",
    "    .option(\"overwriteSchema\", \"true\") \\\n",
    "    .option(\"replaceWhere\", \"at_load_date = current_date()\") \\\n",
    "    .save(\"/Volumes/workspace/default/databricks_assignment/gold_employee/fact_employee\")\n",
    "\n",
    "display(final_df)\n"
   ]
  }
 ],
 "metadata": {
  "application/vnd.databricks.v1+notebook": {
   "computePreferences": null,
   "dashboards": [],
   "environmentMetadata": {
    "base_environment": "",
    "environment_version": "2"
   },
   "inputWidgetPreferences": null,
   "language": "python",
   "notebookMetadata": {
    "pythonIndentUnit": 4
   },
   "notebookName": "employee_silver_to_gold",
   "widgets": {}
  },
  "language_info": {
   "name": "python"
  }
 },
 "nbformat": 4,
 "nbformat_minor": 0
}

{
 "cells": [
  {
   "cell_type": "code",
   "execution_count": 0,
   "metadata": {
    "application/vnd.databricks.v1+cell": {
     "cellMetadata": {
      "byteLimit": 2048000,
      "rowLimit": 10000
     },
     "inputWidgets": {},
     "nuid": "14f7bd0e-003e-4e23-95f1-f2b38a74f86a",
     "showTitle": false,
     "tableResultSettingsMap": {},
     "title": ""
    }
   },
   "outputs": [],
   "source": [
    "%run \"../source_to_bronze/util\"\n"
   ]
  },
  {
   "cell_type": "code",
   "execution_count": 0,
   "metadata": {
    "application/vnd.databricks.v1+cell": {
     "cellMetadata": {
      "byteLimit": 2048000,
      "rowLimit": 10000
     },
     "inputWidgets": {},
     "nuid": "1bd7c199-8b4f-42c4-a724-ad8746f98e03",
     "showTitle": false,
     "tableResultSettingsMap": {},
     "title": ""
    }
   },
   "outputs": [],
   "source": [
    "from pyspark.sql.types import *\n",
    "\n",
    "employee_schema = StructType([\n",
    "    StructField(\"EmployeeID\", StringType(), True),\n",
    "    StructField(\"EmpName\", StringType(), True),\n",
    "    StructField(\"DepartmentID\", StringType(), True),\n",
    "    StructField(\"CountryID\", StringType(), True),\n",
    "    StructField(\"Salary\", DoubleType(), True),\n",
    "    StructField(\"Age\", IntegerType(), True)\n",
    "])\n"
   ]
  },
  {
   "cell_type": "code",
   "execution_count": 0,
   "metadata": {
    "application/vnd.databricks.v1+cell": {
     "cellMetadata": {
      "byteLimit": 2048000,
      "rowLimit": 10000
     },
     "inputWidgets": {},
     "nuid": "1174d935-a9d5-4b59-861d-931b10d2c718",
     "showTitle": false,
     "tableResultSettingsMap": {},
     "title": ""
    }
   },
   "outputs": [],
   "source": [
    "#Read using custom schema (Method 1 – Function from utils)\n",
    "employee_df_1 = read_csv_with_schema(\"/Volumes/workspace/default/databricks_assignment/Employee-Q1.csv\", employee_schema)\n",
    "\n",
    "# COMMAND ----------\n",
    "\n",
    "# Read using Spark API directly (Method 2 – Direct read)\n",
    "employee_df_2 = spark.read.option(\"header\", True).schema(employee_schema).csv(\"/Volumes/workspace/default/databricks_assignment/Employee-Q1.csv\")\n",
    "\n",
    "# COMMAND ----------\n",
    "\n",
    "# Read using SparkSession + Options (Method 3 – More detailed)\n",
    "employee_df_3 = (\n",
    "    spark.read\n",
    "    .format(\"csv\")\n",
    "    .option(\"header\", \"true\")\n",
    "    .schema(employee_schema)\n",
    "    .load(\"/Volumes/workspace/default/databricks_assignment/Employee-Q1.csv\")\n",
    ")\n",
    "\n",
    "# COMMAND ----------\n",
    "\n",
    "# results\n",
    "display(employee_df_1)\n",
    "display(employee_df_2)\n",
    "display(employee_df_3)"
   ]
  },
  {
   "cell_type": "code",
   "execution_count": 0,
   "metadata": {
    "application/vnd.databricks.v1+cell": {
     "cellMetadata": {
      "byteLimit": 2048000,
      "rowLimit": 10000
     },
     "inputWidgets": {},
     "nuid": "1dd352d9-2cdc-4d1e-aa68-024ec1316fec",
     "showTitle": false,
     "tableResultSettingsMap": {},
     "title": ""
    }
   },
   "outputs": [],
   "source": [
    "from pyspark.sql.functions import udf\n",
    "import re\n",
    "\n",
    "# CamelCase to snake_case converter\n",
    "def camel_to_snake(name):\n",
    "    s1 = re.sub('(.)([A-Z][a-z]+)', r'\\1_\\2', name)\n",
    "    return re.sub('([a-z0-9])([A-Z])', r'\\1_\\2', s1).lower()\n",
    "\n",
    "# UDF to apply CamelCase → snake_case\n",
    "def camel_to_snake_func(col_name):\n",
    "    return camel_to_snake(col_name)\n",
    "\n",
    "camel_to_snake_udf = udf(camel_to_snake_func, StringType())"
   ]
  },
  {
   "cell_type": "code",
   "execution_count": 0,
   "metadata": {
    "application/vnd.databricks.v1+cell": {
     "cellMetadata": {
      "byteLimit": 2048000,
      "rowLimit": 10000
     },
     "inputWidgets": {},
     "nuid": "f98ce0ca-1275-4dd8-bd91-06fb9419248c",
     "showTitle": false,
     "tableResultSettingsMap": {},
     "title": ""
    }
   },
   "outputs": [],
   "source": [
    "# Get old column names\n",
    "old_columns = employee_df_1.columns\n",
    "\n",
    "# Convert using UDF logic\n",
    "new_columns = [camel_to_snake(col) for col in old_columns]  # from utils, not UDF inside DataFrame\n",
    "\n",
    "# Apply renaming\n",
    "for old_col, new_col in zip(old_columns, new_columns):\n",
    "    employee_df_1 = employee_df_1.withColumnRenamed(old_col, new_col)\n",
    "\n",
    "display(employee_df_1)\n"
   ]
  },
  {
   "cell_type": "code",
   "execution_count": 0,
   "metadata": {
    "application/vnd.databricks.v1+cell": {
     "cellMetadata": {
      "byteLimit": 2048000,
      "rowLimit": 10000
     },
     "inputWidgets": {},
     "nuid": "3227c816-2b81-4286-9186-f1c0ee80a347",
     "showTitle": false,
     "tableResultSettingsMap": {},
     "title": ""
    }
   },
   "outputs": [],
   "source": [
    "from pyspark.sql.functions import current_date\n",
    "\n",
    "employee_df_1 = employee_df_1.withColumn(\"load_date\", current_date())\n",
    "\n",
    "spark.sql(\"CREATE DATABASE IF NOT EXISTS Employee_info\")\n",
    "\n",
    "employee_df_1.write \\\n",
    "    .format(\"delta\") \\\n",
    "    .mode(\"overwrite\") \\\n",
    "    .option(\"overwriteSchema\", \"true\") \\\n",
    "    .save(\"/Volumes/workspace/default/databricks_assignment/employee_info/dim_employee\")\n"
   ]
  },
  {
   "cell_type": "code",
   "execution_count": 0,
   "metadata": {
    "application/vnd.databricks.v1+cell": {
     "cellMetadata": {
      "byteLimit": 2048000,
      "implicitDf": true,
      "rowLimit": 10000
     },
     "inputWidgets": {},
     "nuid": "aa3fbc52-7dec-466d-8940-ff7b6fd71d78",
     "showTitle": false,
     "tableResultSettingsMap": {},
     "title": ""
    }
   },
   "outputs": [],
   "source": [
    "df = spark.read.format(\"delta\").load(\"/Volumes/workspace/default/databricks_assignment/employee_info/dim_employee\")\n",
    "display(df)\n",
    "\n",
    "\n"
   ]
  }
 ],
 "metadata": {
  "application/vnd.databricks.v1+notebook": {
   "computePreferences": null,
   "dashboards": [],
   "environmentMetadata": {
    "base_environment": "",
    "environment_version": "2"
   },
   "inputWidgetPreferences": null,
   "language": "python",
   "notebookMetadata": {
    "mostRecentlyExecutedCommandWithImplicitDF": {
     "commandId": 6542298546049630,
     "dataframes": [
      "_sqldf"
     ]
    },
    "pythonIndentUnit": 4
   },
   "notebookName": "employee_bronze_to_silver",
   "widgets": {}
  },
  "language_info": {
   "name": "python"
  }
 },
 "nbformat": 4,
 "nbformat_minor": 0
}
